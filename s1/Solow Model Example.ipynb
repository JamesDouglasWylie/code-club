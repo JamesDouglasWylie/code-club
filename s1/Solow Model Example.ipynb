{
 "cells": [
  {
   "cell_type": "code",
   "execution_count": null,
   "metadata": {
    "collapsed": false
   },
   "outputs": [],
   "source": [
    "# execute this cell before continuing\n",
    "import numpy as np\n",
    "import matplotlib.pyplot as plt\n",
    "import seaborn as sns\n",
    "from __future__ import division\n",
    "%matplotlib inline\n",
    "sns.set_style('whitegrid')"
   ]
  },
  {
   "cell_type": "markdown",
   "metadata": {},
   "source": [
    "# Coding the Solow model\n",
    "\n",
    "Assume we have an economy where:\n",
    "\n",
    "* The production function is Cobb-Douglas:\n",
    "\n",
    "$$ Y_t = F_t(K_t,A_t,L_t) = K_t^\\alpha (A_tL_t)^{(1-\\alpha)} $$\n",
    "\n",
    "* Capital accumulation is given by:\n",
    "\n",
    "$$\\dot{K_t}=sY_t - \\delta K_t $$\n",
    "\n",
    "   (yes, it is continous time but you are welcome to code it in discrete if that's your jam)\n",
    "\n",
    "* Labour grows at rate $n$, technology grows at rate $g$. The usual.\n",
    "\n",
    "## 1. Plotting the Solow model diagram\n",
    "\n",
    "For this you'll need:\n",
    "\n",
    "**1.1 Define a function that finds the steady-sate $k^{*}$, given parameters ($s$,$n$,$g$,$\\delta$,$\\alpha$)**\n",
    "\n",
    "*Do I have to calculate it by hand?* \n",
    "\n",
    "Yes! Most of the time computer only do the boring part, the juicy part is faster done by you - like deriving the steady-state value."
   ]
  },
  {
   "cell_type": "code",
   "execution_count": null,
   "metadata": {
    "collapsed": true
   },
   "outputs": [],
   "source": [
    "# Define the steady state given parameters - this will give you an idea of the range of the vector of ks"
   ]
  },
  {
   "cell_type": "markdown",
   "metadata": {},
   "source": [
    "**1.2 Define a vector of $k$ values. **\n",
    "\n",
    "It can be from 0 to 100 to start with. You can always change it later."
   ]
  },
  {
   "cell_type": "code",
   "execution_count": null,
   "metadata": {
    "collapsed": true
   },
   "outputs": [],
   "source": [
    "# Define a vector of ks"
   ]
  },
  {
   "cell_type": "markdown",
   "metadata": {},
   "source": [
    "**1.3 Define two functions: $sf(k)$ and $(n+g+\\delta)k$**\n",
    "\n",
    "Why? For plotting of course! Remember to add $k$ as an input."
   ]
  },
  {
   "cell_type": "code",
   "execution_count": null,
   "metadata": {
    "collapsed": true
   },
   "outputs": [],
   "source": [
    "# Define the two functions sf(k) and (n+g+delta)k"
   ]
  },
  {
   "cell_type": "markdown",
   "metadata": {},
   "source": [
    "**1.4 Define your parameters**\n",
    "\n",
    "These will depend on how you defined your functions: Are the inputs numbers? You went fancy and use a dictionary?\n",
    "\n",
    "Define your parameter values accordingly. And yeap, you can give it any value you like (subject to, you know, $\\alpha<1$ etc)"
   ]
  },
  {
   "cell_type": "code",
   "execution_count": null,
   "metadata": {
    "collapsed": true
   },
   "outputs": [],
   "source": [
    "# Define your parameters here"
   ]
  },
  {
   "cell_type": "markdown",
   "metadata": {},
   "source": [
    "** 1.5 Plot the result! **\n",
    "\n",
    "Use the functions you defined, the vector of ks and the parameters to plot:\n",
    "\n",
    "* A line $sf(k)$\n",
    "* A line $(n+g+\\delta)k$\n",
    "* A dot on the intersection (use `plt.scatter(x,y)`)"
   ]
  },
  {
   "cell_type": "code",
   "execution_count": null,
   "metadata": {
    "collapsed": true
   },
   "outputs": [],
   "source": [
    "# plot here"
   ]
  },
  {
   "cell_type": "markdown",
   "metadata": {},
   "source": [
    "Try to change the parameters in cell 1.4 and re-execute 1.5 to see what happens!\n",
    "\n",
    "Extra points given if:\n",
    "\n",
    "* You labelled the axis\n",
    "* You added a dashs lines marking the steady-state\n",
    "\n",
    "> **Extra work:** can you make a plot showing what happens if $n$ increases (like in the first tutorial)? \n",
    "\n",
    "When coding on your own, it is always a good practice to:\n",
    "\n",
    "1. Make a list of things you need (a function, another set of parameters, a plot line etc)\n",
    "2. Plan how to do that in a piece of paper (pseudo code)\n",
    "3. Code it!\n",
    "---------------------------"
   ]
  },
  {
   "cell_type": "markdown",
   "metadata": {},
   "source": [
    "## 2. Ploting a shock to $L_t$\n",
    "\n",
    "Suppose the economy starts at $t=0$ in steady state, but at $t=10$, $L_t$ doubles overnight. All parameters remain unchanged.\n",
    "\n",
    "Show a plot with the evolution of $k$ from $t=0$ to $t=100$. Has the economy gotten back to the steady state by t=100?\n",
    "\n",
    "For this you'll need:\n",
    "\n",
    "** 2.1 Define a function for $k_{t+1}(k_t)$**"
   ]
  },
  {
   "cell_type": "code",
   "execution_count": null,
   "metadata": {
    "collapsed": true
   },
   "outputs": [],
   "source": [
    "# Define k_t+1 as a function of parameters and the current value of k_t"
   ]
  },
  {
   "cell_type": "markdown",
   "metadata": {},
   "source": [
    "**2.2 Create vector with the value of $k_t$ at all 100 points**\n",
    "\n",
    "Remember: the first 10 should be all equal to $k^*$"
   ]
  },
  {
   "cell_type": "code",
   "execution_count": null,
   "metadata": {
    "collapsed": true
   },
   "outputs": [],
   "source": [
    "# Create a k vector with 9 values equal to k*, then the 10th one the one just after the inlux of Lt"
   ]
  },
  {
   "cell_type": "code",
   "execution_count": null,
   "metadata": {
    "collapsed": true
   },
   "outputs": [],
   "source": [
    "# Use your k_t+1 function to add the remaining values to your k vector"
   ]
  },
  {
   "cell_type": "markdown",
   "metadata": {},
   "source": [
    "**2.3 Plot your vector of $k$s (Impulse response function)**"
   ]
  },
  {
   "cell_type": "code",
   "execution_count": null,
   "metadata": {
    "collapsed": true
   },
   "outputs": [],
   "source": [
    "# Plot your k vector (Y axis) against a vector with numbers 0 to 100 (X axis)"
   ]
  },
  {
   "cell_type": "markdown",
   "metadata": {},
   "source": [
    "> **Extra work:** Plot the impulse response function for output per effective worker too. Try to make subplots for each.\n",
    "\n",
    "> **Extra work (hard mode):** Can you plot the evolution of output and capital **per worker**?"
   ]
  },
  {
   "cell_type": "markdown",
   "metadata": {},
   "source": [
    "------------------\n",
    "\n",
    "## 3. Encapsulating a plot inside a function\n",
    "\n",
    "To keep the code clean, it is good practice to group a series of routines inside a function. Plotting easily lends itself to this - in python, not so much in matlab. But in matlab is common practice to encapsulate bits of code into functions too, so this exercise is useful anyway.\n",
    "\n",
    "With the code from exercise 1, define a function that:\n",
    "\n",
    "* Takes as inputs (1) a list or dictionary of old parameters, (2) the name of the parameter to shock and (3) the shock size.\n",
    "* Gives as output a Solow model plot with the change.\n",
    "\n",
    "I have written pseudo code to guide you. If you feel brave, erase it and do it from scratch yourself!\n",
    "\n",
    "Tip: Copy pasting is your friend here.\n",
    "\n",
    "Tip: It is preferable to use a dictionary better than a list. Can you guess why?"
   ]
  },
  {
   "cell_type": "code",
   "execution_count": null,
   "metadata": {
    "collapsed": true
   },
   "outputs": [],
   "source": [
    "# define function \"Solow_shock\" of (old_parameters, parameter_to_shock, shock_size):\n",
    "\n",
    "#    define a new dictionary or parameters: copy the dictionary using `old_parameters.copy()`\n",
    "#    change the value of new_parameters[parameter_to_shock] to be shock_size*old value\n",
    "#    calculate the old steady state\n",
    "#    calculate the new steady state\n",
    "#    calculate the old point in the y axis for the steady state\n",
    "#    calculate the new point in the y axis for the steady state\n",
    "\n",
    "#    assign space for the plot using plt.figure(figsize=(8,6)) (or other numbers)\n",
    "#    plot the investment line with old parameters           (a)\n",
    "#    plot the depreciation+n+g line with old parameters     (b)\n",
    "#    plot the old steady state\n",
    "\n",
    "#    if any of the parameters in (a) has changed:    (tip: use `if parameter_to_shock in ['a','b','c']:`)\n",
    "#        plot the new investment line (dashed)\n",
    "#    if any of the parameters of (b) has changed:\n",
    "#        plot the new depreciation line (dashed)\n",
    "#    plot the new steady state\n",
    "\n",
    "#    add labels, legend and axis titles (optional)\n",
    "\n",
    "#    show plot"
   ]
  },
  {
   "cell_type": "markdown",
   "metadata": {},
   "source": [
    "Practice your function below:"
   ]
  },
  {
   "cell_type": "code",
   "execution_count": null,
   "metadata": {
    "collapsed": true
   },
   "outputs": [],
   "source": [
    "# Practice cell"
   ]
  },
  {
   "cell_type": "markdown",
   "metadata": {},
   "source": [
    "Careful with the indentation!\n",
    "\n",
    "> **Extra work:** Add vertical and horizontal lines to mark the new steady-state (`plt.axhline`, `plt.axvline`)\n",
    "\n",
    "> **Extra work:** Make the shock to be optional by giving (2) and (3) default values. For example:\n",
    "> ```python\n",
    "> def function_name(input1,input2=None):\n",
    "> ```\n",
    "                   \n",
    "> Will make input 2 to have the value `None` by default. `None` is a diferent type of object (not a boolean or string or number). Useful for conditionals!"
   ]
  },
  {
   "cell_type": "markdown",
   "metadata": {},
   "source": [
    "---------------\n",
    "\n",
    "If you made it through this exercise, you should have learned:  \n",
    "\n",
    "<form action=\"demo_form.asp\" method=\"get\">\n",
    "  <p>&nbsp;</p>\n",
    "  <input type=\"checkbox\" > How to plot the Solow Model diagram<br>\n",
    "  <input type=\"checkbox\" > How to generate and plot IRFs<br>\n",
    "  <input type=\"checkbox\" > How to encapsulate a plot into a function<br>\n",
    "</form>\n",
    "\n",
    "Feel free to change or add content to this notebook.\n",
    "\n",
    "***Next time: Neoclassical Model!***"
   ]
  }
 ],
 "metadata": {
  "kernelspec": {
   "display_name": "Python 2",
   "language": "python",
   "name": "python2"
  },
  "language_info": {
   "codemirror_mode": {
    "name": "ipython",
    "version": 2
   },
   "file_extension": ".py",
   "mimetype": "text/x-python",
   "name": "python",
   "nbconvert_exporter": "python",
   "pygments_lexer": "ipython2",
   "version": "2.7.10"
  }
 },
 "nbformat": 4,
 "nbformat_minor": 0
}
