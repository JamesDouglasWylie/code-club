{
 "cells": [
  {
   "cell_type": "markdown",
   "metadata": {},
   "source": [
    "# VFI 1.5\n",
    "## Consumption with income diosyncratic shocks\n",
    "\n",
    "This notebook is based on [An Stochastic Optimal Gowth Model](https://lectures.quantecon.org/py/optgrowth.html)."
   ]
  },
  {
   "cell_type": "code",
   "execution_count": null,
   "metadata": {
    "collapsed": false
   },
   "outputs": [],
   "source": [
    "import numpy as np\n",
    "import matplotlib.pyplot as plt\n",
    "import seaborn as sns\n",
    "from scipy.optimize import fminbound                       # Minimizer\n",
    "from scipy import interp                                   # Fast but inaccurate interpolator\n",
    "from scipy.interpolate import PchipInterpolator, interp1d  # Slow but accurate interpolator\n",
    "\n",
    "%matplotlib inline\n",
    "np.random.seed(13)                          # Sets the seed of the random number generator (so we all get the same numbers)\n",
    "sns.set_style('whitegrid')                  # Makes nice plots"
   ]
  },
  {
   "cell_type": "markdown",
   "metadata": {},
   "source": [
    "## 1. The bellman operator revisited\n",
    "\n",
    "We are going to repeat the same problem as on Tuesday, but this time with random shocks, so the problem becomes\n",
    "\n",
    "$$ V(k_t) = \\max_{c_t} u(c_t) + \\beta  \\mathbb{E}_t V(k_{t+1})$$\n",
    "st\n",
    "$$ k_{t+1} = f(k_{t} - c_{t} )\\xi_{t+1}$$\n",
    "\n",
    "Where $\\xi_{t+1}$ is an idiosincratic shock - meaning it's uncorrelated with $k$ or any other variable, and it is not serially correlated. This is important because it means we don't have information on tomorrow's shock, so when we take expectatios we can just take a mean of expected outcomes. In the next session we will talk on what happens with the shock (for example income) is serially correlated.\n",
    "\n",
    "The only difference with the previous problem we saw is that now we need to take expectaions of the value function. Which is just a mean in the case of an idiosyncratic, uncorrelated shock. But we solve it the same way: give an initial guess for the function V\n",
    "\n",
    "From the previous session, you should recognise this function below: it takes in some parameters and gives us one iteration on value functions. The initial guess is ``w``, the capital/asset grid is ``grid``, etc.\n",
    "\n",
    "> **Task 1:** Read the function, making sure you understand what each line of code does.\n",
    "\n",
    "> If there is a function you don't remember (like ``ennumerate``) try it out in a cell below."
   ]
  },
  {
   "cell_type": "code",
   "execution_count": null,
   "metadata": {
    "collapsed": false
   },
   "outputs": [],
   "source": [
    "def bellman_operator(w, grid, beta, u, f, shocks, Tw=None, compute_policy=0):\n",
    "    \"\"\"\n",
    "    The approximate Bellman operator, which computes and returns the\n",
    "    updated value function Tw on the grid points.  An array to store\n",
    "    the new set of values Tw is optionally supplied (to avoid having to\n",
    "    allocate new arrays at each iteration).  If supplied, any existing data in \n",
    "    Tw will be overwritten.\n",
    "\n",
    "    Parameters\n",
    "    ----------\n",
    "    w : array_like(float, ndim=1)\n",
    "        The value of the input function on different grid points\n",
    "    grid : array_like(float, ndim=1)\n",
    "        The set of grid points\n",
    "    u : function\n",
    "        The utility function\n",
    "    f : function\n",
    "        The production function\n",
    "    shocks : numpy array\n",
    "        An array of draws from the shock, for Monte Carlo integration (to\n",
    "        compute expectations).\n",
    "    beta : scalar\n",
    "        The discount factor\n",
    "    Tw : array_like(float, ndim=1) optional (default=None)\n",
    "        Array to write output values to\n",
    "    compute_policy : Boolean, optional (default=False)\n",
    "        Whether or not to compute policy function\n",
    "\n",
    "    \"\"\"\n",
    "    # === Apply linear interpolation to w === #\n",
    "    w_func = lambda x: interp(x, grid, w)\n",
    "\n",
    "    # == Initialize Tw if necessary == #\n",
    "    if Tw is None:\n",
    "        Tw = np.empty(len(w))\n",
    "\n",
    "    if compute_policy:\n",
    "        sigma = np.empty(len(w))\n",
    "\n",
    "    # == set Tw[i] = max_c { u(c) + beta E w(f(y  - c) z)} == #\n",
    "    for i, y in enumerate(grid):\n",
    "        def objective(c):\n",
    "            return - u(c) - beta * np.mean(w_func(f(y - c) * (shocks)))\n",
    "        c_star = fminbound(objective, 1e-10, y)\n",
    "        if compute_policy:\n",
    "            sigma[i] = c_star\n",
    "        Tw[i] = - objective(c_star)\n",
    "\n",
    "    if compute_policy:\n",
    "        return Tw, sigma\n",
    "    else:\n",
    "        return Tw"
   ]
  },
  {
   "cell_type": "code",
   "execution_count": null,
   "metadata": {
    "collapsed": true
   },
   "outputs": [],
   "source": [
    "# cell for trying things"
   ]
  },
  {
   "cell_type": "markdown",
   "metadata": {},
   "source": [
    "> **Task 2:** Complete the code in the cells below. You need to type in:\n",
    "> - The grid for k - give it at least 100 values between say 0 and 2\n",
    "> - The utility function, which is going to be log(c) again\n",
    "> - The production function, which is Cobb-Douglas\n",
    "> - The shocks vector: should be a vector with random values taken from a lognormal distribution with mean 1, std 1.\n",
    "> - The initial guess ``w0`` (should be a vector)"
   ]
  },
  {
   "cell_type": "code",
   "execution_count": null,
   "metadata": {
    "collapsed": false
   },
   "outputs": [],
   "source": [
    "# Parameters\n",
    "beta = 0.95\n",
    "alpha=0.66\n",
    "mu = 0\n",
    "sigma = 0.1"
   ]
  },
  {
   "cell_type": "code",
   "execution_count": null,
   "metadata": {
    "collapsed": true
   },
   "outputs": [],
   "source": [
    "k_grid = # your code here (you can copy it from the last notebook)\n",
    "\n",
    "def ulog(c):\n",
    "    return # your code here\n",
    "\n",
    "def f(k,alpha=0.66): # the alpha=0.66 ensures that alpha is \"preset\" at 0.66 unless the user changes it\n",
    "    return # your code here\n",
    "\n",
    "shocks = # tip: in a new cell, type in np.random.normal? to read the instructions. You have to set the mean = 1\n",
    "\n",
    "w0 = # your code here. Tip: what is the functional form?"
   ]
  },
  {
   "cell_type": "markdown",
   "metadata": {},
   "source": [
    "Time to try out the function! We now need to write the piece of code that:\n",
    "\n",
    "- Sets the initial value function to our first guess ``w0``, the tolerance to something small, the distance to 1 and the iteration counter to 0\n",
    "- While the distance is greater than the tolerance, calls bellam_operator to get a new value function.\n",
    "- Calculates the distance (the absolute value of the difference of the 2 vectors)\n",
    "- Resets the current value function ``w`` to be equal to the new value function ``w_next``.\n",
    "- Adds 1 to the iteration counter and every 50 iterations prints the distance.\n",
    "\n",
    "Are you up for the challenge?\n",
    "\n",
    "> **Task 3**: Code the VFI algorithm following the steps. For this you can either:\n",
    "> 1. Code it up from scratch (hard mode)\n",
    "> 2. Copy the code from VFI1 notebook and tweak it a little (easy mode)\n",
    "> 3. If you are lost, you can copy it from [here](#sol2) \n"
   ]
  },
  {
   "cell_type": "code",
   "execution_count": null,
   "metadata": {
    "collapsed": true
   },
   "outputs": [],
   "source": [
    "# VFI algorithm here"
   ]
  },
  {
   "cell_type": "markdown",
   "metadata": {},
   "source": [
    "## 2. Plot time\n",
    "\n",
    "Is this the right answer?\n",
    "\n",
    "As you may remember from a Macro 2 assignment, there is a pen and pencil solution for this case, which I have coded below for your peace of mind in the ``true_v`` function."
   ]
  },
  {
   "cell_type": "code",
   "execution_count": null,
   "metadata": {
    "collapsed": true
   },
   "outputs": [],
   "source": [
    "ab = alpha * beta\n",
    "c1 = np.log(1 - ab) / (1 - beta)\n",
    "c2 = (mu + alpha * np.log(ab)) / (1 - alpha)\n",
    "c3 = 1 / (1 - beta)\n",
    "c4 = 1 / (1 - ab)\n",
    "\n",
    "def true_v(y):\n",
    "    return c1 + c2 * (c3 - c4) + c4 * np.log(y)"
   ]
  },
  {
   "cell_type": "markdown",
   "metadata": {},
   "source": [
    "Let's plot the two of them to see if they match\n",
    "\n",
    "> **Task 4:** Complete the code below. Use the VFI1 as a guide.\n",
    ">\n",
    "> Tip: use the option ``label=\"label name\"`` when plotting, so you can see the legend."
   ]
  },
  {
   "cell_type": "code",
   "execution_count": null,
   "metadata": {
    "collapsed": false
   },
   "outputs": [],
   "source": [
    "# Code here to obtain the plot of capital versus the value function (from VFI)\n",
    "# Code here to obtain the plot of capital versus the value function (from algebra)\n",
    "plt.ylim(-50,-30)\n",
    "plt.xlabel('$k$', fontsize=16)\n",
    "plt.ylabel('$V^*(k)$', fontsize=16)\n",
    "plt.legend(loc='best',frameon=True, fontsize=14)\n",
    "plt.show()"
   ]
  },
  {
   "cell_type": "markdown",
   "metadata": {},
   "source": [
    "We can do the same with the policy function. Only that we need a function $c^*(k)$ that returns the optimal consumption policy for any capital, not just the ones in the grid.\n",
    "\n",
    "> **Task 5**: Create a function called ``policy`` that when given capital $k$ returns the optimal consumption $c^*(k)$.\n",
    ">\n",
    "> Use it to plot capital vs optimal consumption, from VFI and from algebra. Do they coincide?\n",
    ">\n",
    "> Tip: You may want to look back at ``bellman_operator``"
   ]
  },
  {
   "cell_type": "code",
   "execution_count": null,
   "metadata": {
    "collapsed": true
   },
   "outputs": [],
   "source": [
    "# define policy(k) here\n",
    "\n",
    "def true_c(k):\n",
    "    return (1 - alpha * beta) * k  # From algebra"
   ]
  },
  {
   "cell_type": "code",
   "execution_count": null,
   "metadata": {
    "collapsed": false
   },
   "outputs": [],
   "source": [
    "# Code here to obtain the plot of capital versus consumption (from VFI)\n",
    "# Code here to obtain the plot of capital versus consumption (from algebra)\n",
    "plt.xlabel('$k$', fontsize=16)\n",
    "plt.ylabel('$c^*(k)$', fontsize=16)\n",
    "plt.legend(loc='best',frameon=True, fontsize=14)\n",
    "plt.show()"
   ]
  },
  {
   "cell_type": "markdown",
   "metadata": {},
   "source": [
    "Seems that we are done here!\n",
    "\n",
    "Feel free to experiment and change the grid for capital, some parameters or even the shocks (within reason). [Here](https://docs.scipy.org/doc/numpy/reference/routines.random.html) is a list of distributions you can use."
   ]
  },
  {
   "cell_type": "markdown",
   "metadata": {},
   "source": [
    "## 3. Simulating a consumption path\n",
    "\n",
    "There is one more fancy plot we can do: a simulation of the path for consumption and capital.\n",
    "\n",
    "First we need to generate some shocks, then using our policy function we can generate the path for consumption and capital. As this may be the first time you do something like this, I'm going to give you the code almost complete, but it would be great practice for you to code it from scratch.\n",
    "\n",
    "> **Task 6:** Fill in the blanks to generate the shocks and then the path for capital."
   ]
  },
  {
   "cell_type": "code",
   "execution_count": null,
   "metadata": {
    "collapsed": false
   },
   "outputs": [],
   "source": [
    "T =100\n",
    "shock_path= # your code here\n",
    "\n",
    "k_path = np.empty(T)\n",
    "k_path[0] = 0.1\n",
    "\n",
    "for t in range(T-1):\n",
    "    k_path[t+1] = # your code here"
   ]
  },
  {
   "cell_type": "markdown",
   "metadata": {},
   "source": [
    "Finally, execute the cell below to see all of your good work in action."
   ]
  },
  {
   "cell_type": "code",
   "execution_count": null,
   "metadata": {
    "collapsed": false
   },
   "outputs": [],
   "source": [
    "plt.plot(k_path, label='capital path')\n",
    "plt.ylabel('$k_t$',fontsize=16)\n",
    "plt.xlabel('$t$',fontsize=16)\n",
    "plt.legend(loc='best',fontsize=14)\n",
    "plt.twinx()\n",
    "plt.plot(shock_path, c='g',alpha=0.2, label='shocks')\n",
    "plt.legend(loc='best',fontsize=14)\n",
    "plt.ylabel(\"$shocks$\",fontsize=16)\n",
    "plt.show()"
   ]
  },
  {
   "cell_type": "markdown",
   "metadata": {
    "collapsed": true
   },
   "source": [
    "## Fin\n",
    "\n",
    "That was all for today. Try this assignment first (better with friends!) and then next Monday we can all meet and go through it together. Don't worry if you get stuck, we'll get through it on Monday.\n",
    "\n",
    "Next time: markow chains and what to do when the error is correlated.\n",
    "\n",
    "\n",
    "<a id='sol2'></a>\n",
    "\n",
    "### Solution to before"
   ]
  },
  {
   "cell_type": "code",
   "execution_count": null,
   "metadata": {
    "collapsed": false
   },
   "outputs": [],
   "source": [
    "w = w0\n",
    "tol = 1e-6\n",
    "distance = 1\n",
    "iterations = 0\n",
    "while distance > tol:\n",
    "    w_next, c_best = bellman_operator(w,k_grid,beta,ulog,f,shocks,compute_policy=True)\n",
    "    distance = np.abs(np.max(w - w_next))\n",
    "    w = w_next\n",
    "    iterations += 1\n",
    "    if iterations % 50 == 0:\n",
    "        print ' after {} iterations, distance is {}'.format(iterations, distance)\n",
    "print 'Done'"
   ]
  }
 ],
 "metadata": {
  "kernelspec": {
   "display_name": "Python 2",
   "language": "python",
   "name": "python2"
  },
  "language_info": {
   "codemirror_mode": {
    "name": "ipython",
    "version": 2
   },
   "file_extension": ".py",
   "mimetype": "text/x-python",
   "name": "python",
   "nbconvert_exporter": "python",
   "pygments_lexer": "ipython2",
   "version": "2.7.13"
  }
 },
 "nbformat": 4,
 "nbformat_minor": 0
}
