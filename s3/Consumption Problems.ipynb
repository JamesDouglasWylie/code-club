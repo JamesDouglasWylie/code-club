{
 "cells": [
  {
   "cell_type": "code",
   "execution_count": 1,
   "metadata": {
    "collapsed": false
   },
   "outputs": [],
   "source": [
    "\"\"\"\n",
    "Filename: log_linear_growth_model.py\n",
    "Authors: John Stachurski, Thomas Sargent\n",
    "\n",
    "The log linear growth model, wrapped as classes.  For use with the\n",
    "optgrowth.py module.\n",
    "\"\"\"\n",
    "\n",
    "import numpy as np\n",
    "import matplotlib.pyplot as plt\n",
    "#from optgrowth import bellman_operator\n",
    "from quantecon import compute_fixed_point\n",
    "from joblib import Memory\n",
    "import seaborn as sns\n",
    "from scipy.optimize import fminbound\n",
    "from scipy import interp                                   # Fast but inaccurate\n",
    "from scipy.interpolate import PchipInterpolator, interp1d  # Slow but accurate\n",
    "\n",
    "memory = Memory(cachedir='./joblib_cache')\n",
    "%matplotlib inline\n",
    "sns.set_style('whitegrid')"
   ]
  },
  {
   "cell_type": "code",
   "execution_count": 6,
   "metadata": {
    "collapsed": true
   },
   "outputs": [],
   "source": [
    "def bellman_operator(w, grid, beta, u, f, shocks, Tw=None, compute_policy=0):\n",
    "    \"\"\"\n",
    "    The approximate Bellman operator, which computes and returns the\n",
    "    updated value function Tw on the grid points.  An array to store\n",
    "    the new set of values Tw is optionally supplied (to avoid having to\n",
    "    allocate new arrays at each iteration).  If supplied, any existing data in \n",
    "    Tw will be overwritten.\n",
    "\n",
    "    Parameters\n",
    "    ----------\n",
    "    w : array_like(float, ndim=1)\n",
    "        The value of the input function on different grid points\n",
    "    grid : array_like(float, ndim=1)\n",
    "        The set of grid points\n",
    "    u : function\n",
    "        The utility function\n",
    "    f : function\n",
    "        The production function\n",
    "    shocks : numpy array\n",
    "        An array of draws from the shock, for Monte Carlo integration (to\n",
    "        compute expectations).\n",
    "    beta : scalar\n",
    "        The discount factor\n",
    "    Tw : array_like(float, ndim=1) optional (default=None)\n",
    "        Array to write output values to\n",
    "    compute_policy : Boolean, optional (default=False)\n",
    "        Whether or not to compute policy function\n",
    "\n",
    "    \"\"\"\n",
    "    # === Apply linear interpolation to w === #\n",
    "    w_func = lambda x: interp(x, grid, w)\n",
    "\n",
    "    # == Initialize Tw if necessary == #\n",
    "    if Tw is None:\n",
    "        Tw = np.empty(len(w))\n",
    "\n",
    "    if compute_policy:\n",
    "        sigma = np.empty(len(w))\n",
    "\n",
    "    # == set Tw[i] = max_c { u(c) + beta E w(f(y  - c) z)} == #\n",
    "    for i, y in enumerate(grid):\n",
    "        def objective(c):\n",
    "            return - u(c) - beta * np.mean(w_func(f(y - c) * shocks))\n",
    "        c_star = fminbound(objective, 1e-10, y)\n",
    "        if compute_policy:\n",
    "            sigma[i] = c_star\n",
    "        Tw[i] = - objective(c_star)\n",
    "\n",
    "    if compute_policy:\n",
    "        return Tw, sigma\n",
    "    else:\n",
    "        return Tw"
   ]
  },
  {
   "cell_type": "code",
   "execution_count": 7,
   "metadata": {
    "collapsed": true
   },
   "outputs": [],
   "source": [
    "@memory.cache\n",
    "def compute_value_function_cached(grid, ufunc, beta, alpha, shocks):\n",
    "    \"\"\"\n",
    "    Compute the value function by iterating on the Bellman operator.\n",
    "    The work is done by QuantEcon's compute_fixed_point function.\n",
    "    \"\"\"\n",
    "    Tw = np.empty(len(grid))\n",
    "    initial_w = 5 * np.log(grid) - 25\n",
    "\n",
    "    v_star = compute_fixed_point(bellman_operator, \n",
    "            initial_w, \n",
    "            1e-4,  # error_tol\n",
    "            100,   # max_iter\n",
    "            True,  # verbose\n",
    "            5,     # print_skip\n",
    "            grid,\n",
    "            beta,\n",
    "            ufunc,\n",
    "            lambda k: k**alpha,\n",
    "            shocks,\n",
    "            Tw=Tw,\n",
    "            compute_policy=False)\n",
    "    return v_star"
   ]
  },
  {
   "cell_type": "code",
   "execution_count": 8,
   "metadata": {
    "collapsed": false
   },
   "outputs": [],
   "source": [
    "pamdic = {\"alpha\":0.65,         # Productivity parameter\n",
    "          \"beta\":0.95,          # Discount factor\n",
    "          \"mu\":1,               # First parameter in lognorm(mu, sigma)\n",
    "          \"sigma\":0.1,          # Second parameter in lognorm(mu, sigma)\n",
    "          \"grid_max\":8, \n",
    "          \"grid_size\":150}\n",
    "pamdic2 = pamdic.copy()\n",
    "pamdic2['sigma']=0.6\n",
    "\n",
    "grid = np.linspace(1e-6, pamdic[\"grid_max\"], pamdic[\"grid_size\"])\n",
    "\n",
    "shocks = np.exp(pamdic[\"mu\"] + pamdic[\"sigma\"] * np.random.randn(250))\n",
    "big_shocks = np.exp(pamdic[\"mu\"] + pamdic2[\"sigma\"] * np.random.randn(250))"
   ]
  },
  {
   "cell_type": "code",
   "execution_count": 9,
   "metadata": {
    "collapsed": false
   },
   "outputs": [
    {
     "name": "stdout",
     "output_type": "stream",
     "text": [
      "________________________________________________________________________________\n",
      "[Memory] Calling __main__--Users-crisla-Documents-code-club-s3-__ipython-input__.compute_value_function_cached-alias...\n",
      "compute_value_function_cached-alias(array([  1.000000e-06, ...,   8.000000e+00]), <ufunc 'log'>, 0.95, 0.65, array([ 2.476439, ...,  2.843238]))\n",
      "Iteration    Distance       Elapsed (seconds)\n",
      "---------------------------------------------\n",
      "5            7.792e+00      5.234e-01         \n",
      "10           5.859e+00      9.716e-01         \n",
      "15           4.409e+00      1.431e+00         \n",
      "20           3.317e+00      1.884e+00         \n",
      "25           2.495e+00      2.340e+00         \n",
      "30           1.877e+00      2.801e+00         \n",
      "35           1.412e+00      3.252e+00         \n",
      "40           1.061e+00      3.711e+00         \n",
      "45           7.981e-01      4.299e+00         \n",
      "50           6.000e-01      4.785e+00         \n",
      "55           4.509e-01      5.272e+00         \n",
      "60           3.389e-01      5.821e+00         \n",
      "65           2.546e-01      6.344e+00         \n",
      "70           1.913e-01      6.845e+00         \n",
      "75           1.437e-01      7.339e+00         \n",
      "80           1.079e-01      7.815e+00         \n",
      "85           8.100e-02      8.302e+00         \n",
      "90           6.080e-02      8.770e+00         \n",
      "95           4.563e-02      9.232e+00         \n",
      "100          3.424e-02      9.700e+00         \n",
      "______________________________compute_value_function_cached-alias - 9.7s, 0.2min\n"
     ]
    }
   ],
   "source": [
    "v_star = compute_value_function_cached(grid,\n",
    "                                       np.log,\n",
    "                                       pamdic[\"beta\"],\n",
    "                                       pamdic[\"alpha\"],\n",
    "                                       shocks)"
   ]
  },
  {
   "cell_type": "code",
   "execution_count": 10,
   "metadata": {
    "collapsed": false
   },
   "outputs": [
    {
     "name": "stdout",
     "output_type": "stream",
     "text": [
      "________________________________________________________________________________\n",
      "[Memory] Calling __main__--Users-crisla-Documents-code-club-s3-__ipython-input__.compute_value_function_cached-alias...\n",
      "compute_value_function_cached-alias(array([  1.000000e-06, ...,   8.000000e+00]), <ufunc 'log'>, 0.95, 0.65, array([ 8.006166, ...,  1.508464]))\n",
      "Iteration    Distance       Elapsed (seconds)\n",
      "---------------------------------------------\n",
      "5            7.752e+00      5.505e-01         \n",
      "10           5.816e+00      1.069e+00         \n",
      "15           4.366e+00      1.609e+00         \n",
      "20           3.277e+00      2.217e+00         \n",
      "25           2.459e+00      2.777e+00         \n",
      "30           1.846e+00      3.292e+00         \n",
      "35           1.385e+00      3.782e+00         \n",
      "40           1.039e+00      4.381e+00         \n",
      "45           7.792e-01      4.888e+00         \n",
      "50           5.843e-01      5.460e+00         \n",
      "55           4.382e-01      5.991e+00         \n",
      "60           3.285e-01      6.514e+00         \n",
      "65           2.462e-01      7.005e+00         \n",
      "70           1.845e-01      7.489e+00         \n",
      "75           1.383e-01      8.025e+00         \n",
      "80           1.036e-01      8.528e+00         \n",
      "85           7.758e-02      9.041e+00         \n",
      "90           5.809e-02      9.563e+00         \n",
      "95           4.349e-02      1.015e+01         \n",
      "100          3.255e-02      1.067e+01         \n",
      "_____________________________compute_value_function_cached-alias - 10.7s, 0.2min\n"
     ]
    }
   ],
   "source": [
    "v_star2 = compute_value_function_cached(grid,\n",
    "                                       np.log,\n",
    "                                       pamdic[\"beta\"],\n",
    "                                       pamdic[\"alpha\"],\n",
    "                                       big_shocks)"
   ]
  },
  {
   "cell_type": "code",
   "execution_count": 11,
   "metadata": {
    "collapsed": true
   },
   "outputs": [],
   "source": [
    "def uRRA(c, rho=2):\n",
    "    return (c**(1-rho)-1)/(1-rho)"
   ]
  },
  {
   "cell_type": "code",
   "execution_count": 12,
   "metadata": {
    "collapsed": false
   },
   "outputs": [
    {
     "name": "stdout",
     "output_type": "stream",
     "text": [
      "________________________________________________________________________________\n",
      "[Memory] Calling __main__--Users-crisla-Documents-code-club-s3-__ipython-input__.compute_value_function_cached-alias...\n",
      "compute_value_function_cached-alias(array([  1.000000e-06, ...,   8.000000e+00]), <function uRRA at 0x10e82b398>, 0.95, 0.65, array([ 2.476439, ...,  2.843238]))\n",
      "Iteration    Distance       Elapsed (seconds)\n",
      "---------------------------------------------\n",
      "5            2.092e+06      5.182e-01         \n",
      "10           1.582e+06      9.900e-01         \n",
      "15           1.195e+06      1.477e+00         \n",
      "20           9.036e+05      1.934e+00         \n",
      "25           6.830e+05      2.397e+00         \n",
      "30           5.163e+05      2.869e+00         \n",
      "35           3.902e+05      3.334e+00         \n",
      "40           2.950e+05      3.797e+00         \n",
      "45           2.229e+05      4.267e+00         \n",
      "50           1.685e+05      4.765e+00         \n",
      "55           1.274e+05      5.273e+00         \n",
      "60           9.628e+04      5.767e+00         \n",
      "65           7.277e+04      6.243e+00         \n",
      "70           5.501e+04      6.716e+00         \n",
      "75           4.158e+04      7.188e+00         \n",
      "80           3.143e+04      7.655e+00         \n",
      "85           2.375e+04      8.129e+00         \n",
      "90           1.796e+04      8.600e+00         \n",
      "95           1.357e+04      9.071e+00         \n",
      "100          1.026e+04      9.537e+00         \n",
      "______________________________compute_value_function_cached-alias - 9.5s, 0.2min\n"
     ]
    }
   ],
   "source": [
    "v_CRRA = compute_value_function_cached(grid,\n",
    "                                       uRRA,\n",
    "                                       pamdic[\"beta\"],\n",
    "                                       pamdic[\"alpha\"],\n",
    "                                       shocks)"
   ]
  },
  {
   "cell_type": "code",
   "execution_count": 13,
   "metadata": {
    "collapsed": false
   },
   "outputs": [
    {
     "name": "stdout",
     "output_type": "stream",
     "text": [
      "________________________________________________________________________________\n",
      "[Memory] Calling __main__--Users-crisla-Documents-code-club-s3-__ipython-input__.compute_value_function_cached-alias...\n",
      "compute_value_function_cached-alias(array([  1.000000e-06, ...,   8.000000e+00]), <function uRRA at 0x10e82b398>, 0.95, 0.65, array([ 8.006166, ...,  1.508464]))\n",
      "Iteration    Distance       Elapsed (seconds)\n",
      "---------------------------------------------\n",
      "5            2.088e+06      5.220e-01         \n",
      "10           1.574e+06      1.011e+00         \n",
      "15           1.186e+06      1.502e+00         \n",
      "20           8.944e+05      2.010e+00         \n",
      "25           6.742e+05      2.572e+00         \n",
      "30           5.083e+05      3.077e+00         \n",
      "35           3.831e+05      3.544e+00         \n",
      "40           2.888e+05      4.017e+00         \n",
      "45           2.177e+05      4.506e+00         \n",
      "50           1.641e+05      5.009e+00         \n",
      "55           1.237e+05      5.510e+00         \n",
      "60           9.326e+04      6.010e+00         \n",
      "65           7.031e+04      6.507e+00         \n",
      "70           5.300e+04      6.996e+00         \n",
      "75           3.995e+04      7.486e+00         \n",
      "80           3.012e+04      7.967e+00         \n",
      "85           2.270e+04      8.453e+00         \n",
      "90           1.711e+04      8.935e+00         \n",
      "95           1.290e+04      9.414e+00         \n",
      "100          9.725e+03      9.895e+00         \n",
      "______________________________compute_value_function_cached-alias - 9.9s, 0.2min\n"
     ]
    }
   ],
   "source": [
    "v_CRRARisky = compute_value_function_cached(grid,\n",
    "                                       uRRA,\n",
    "                                       pamdic[\"beta\"],\n",
    "                                       pamdic[\"alpha\"],\n",
    "                                       big_shocks)"
   ]
  },
  {
   "cell_type": "code",
   "execution_count": 18,
   "metadata": {
    "collapsed": false
   },
   "outputs": [
    {
     "data": {
      "image/png": "[encoded data removed]",
      "text/plain": [
       "<matplotlib.figure.Figure at 0x10f565850>"
      ]
     },
     "metadata": {},
     "output_type": "display_data"
    }
   ],
   "source": [
    "sns.set_palette(sns.color_palette(\"Paired\"))\n",
    "plt.plot(grid,v_star, label='$\\sigma = 0.1$')\n",
    "plt.plot(grid,v_star2, label='$\\sigma = 0.6$')\n",
    "plt.plot(grid,v_CRRA, label='CRRA, $\\sigma = 0.1$')\n",
    "plt.plot(grid,v_CRRARisky, label='CRRA, $\\sigma = 0.6$')\n",
    "plt.ylim(0,30)\n",
    "plt.xlabel('$y$', fontsize=16)\n",
    "plt.ylabel(\"$v^*(y)$\", fontsize=16)\n",
    "plt.legend(loc=2,frameon=True)\n",
    "plt.show()"
   ]
  },
  {
   "cell_type": "code",
   "execution_count": 19,
   "metadata": {
    "collapsed": false
   },
   "outputs": [],
   "source": [
    "Tw, sigma = bellman_operator(v_star, \n",
    "                            grid,  \n",
    "                            pamdic[\"beta\"],  \n",
    "                            np.log,\n",
    "                            lambda k: k**pamdic[\"alpha\"],\n",
    "                            shocks,\n",
    "                            compute_policy=True)\n",
    "\n",
    "Tw2, sigma2 = bellman_operator(v_star2, \n",
    "                            grid,  \n",
    "                            pamdic[\"beta\"],  \n",
    "                            np.log,\n",
    "                            lambda k: k**pamdic[\"alpha\"],\n",
    "                            big_shocks,\n",
    "                            compute_policy=True)\n",
    "\n",
    "Tw3, sigma3 = bellman_operator(v_CRRA, \n",
    "                            grid,  \n",
    "                            pamdic[\"beta\"],  \n",
    "                            uRRA,\n",
    "                            lambda k: k**pamdic[\"alpha\"],\n",
    "                            shocks,\n",
    "                            compute_policy=True)\n",
    "\n",
    "Tw4, sigma4 = bellman_operator(v_CRRARisky, \n",
    "                            grid,  \n",
    "                            pamdic[\"beta\"],  \n",
    "                            uRRA,\n",
    "                            lambda k: k**pamdic[\"alpha\"],\n",
    "                            big_shocks,\n",
    "                            compute_policy=True)"
   ]
  },
  {
   "cell_type": "code",
   "execution_count": 51,
   "metadata": {
    "collapsed": false
   },
   "outputs": [
    {
     "data": {
      "text/plain": [
       "['log_risk', 'CRRA', 'log', 'CRRA_risk']"
      ]
     },
     "execution_count": 51,
     "metadata": {},
     "output_type": "execute_result"
    }
   ],
   "source": [
    "vs = [v_star,v_star2,v_CRRA,v_CRRARisky]\n",
    "names = [\"log\",\"log_risk\",\"CRRA\",\"CRRA_risk\"]\n",
    "fs = [np.log,np.log,uRRA,uRRA]\n",
    "sh = [shocks,big_shocks,shocks,big_shocks]\n",
    "policies = {}\n",
    "\n",
    "for i in range(len(vs)):\n",
    "    Tw, sigma = bellman_operator(vs[i], \n",
    "                            grid,  \n",
    "                            pamdic[\"beta\"],  \n",
    "                            fs[i],\n",
    "                            lambda k: k**pamdic[\"alpha\"],\n",
    "                            sh[i],\n",
    "                            compute_policy=True)\n",
    "    policies[names[i]] = sigma\n",
    "policies.keys()"
   ]
  },
  {
   "cell_type": "code",
   "execution_count": 20,
   "metadata": {
    "collapsed": false
   },
   "outputs": [
    {
     "data": {
      "image/png": "[encoded data removed]",
      "text/plain": [
       "<matplotlib.figure.Figure at 0x10f565c50>"
      ]
     },
     "metadata": {},
     "output_type": "display_data"
    }
   ],
   "source": [
    "plt.plot(grid,sigma, label='VFI solution')\n",
    "plt.plot(grid,sigma2, label='VFI $\\sigma = 0.6$')\n",
    "plt.plot(grid, (1-pamdic[\"beta\"]*pamdic[\"alpha\"])*grid, label=\"Actual solution\")\n",
    "plt.xlabel('$y$', fontsize=16)\n",
    "plt.ylabel(\"$c^*(y)$\", fontsize=16)\n",
    "plt.legend(loc='best', fontsize=16, frameon=True)\n",
    "plt.show()"
   ]
  },
  {
   "cell_type": "code",
   "execution_count": 21,
   "metadata": {
    "collapsed": false
   },
   "outputs": [
    {
     "data": {
      "image/png": "[encoded data removed]",
      "text/plain": [
       "<matplotlib.figure.Figure at 0x10f269750>"
      ]
     },
     "metadata": {},
     "output_type": "display_data"
    }
   ],
   "source": [
    "plt.plot(grid,sigma3, label='VFI solution')\n",
    "plt.plot(grid,sigma4, label='VFI $\\sigma = 0.6$')\n",
    "plt.xlabel('$y$', fontsize=16)\n",
    "plt.ylabel(\"$c^*(y)$\", fontsize=16)\n",
    "plt.legend(loc='best', fontsize=16, frameon=True)\n",
    "plt.show()"
   ]
  },
  {
   "cell_type": "code",
   "execution_count": null,
   "metadata": {
    "collapsed": true
   },
   "outputs": [],
   "source": []
  }
 ],
 "metadata": {
  "kernelspec": {
   "display_name": "Python 2",
   "language": "python",
   "name": "python2"
  },
  "language_info": {
   "codemirror_mode": {
    "name": "ipython",
    "version": 2
   },
   "file_extension": ".py",
   "mimetype": "text/x-python",
   "name": "python",
   "nbconvert_exporter": "python",
   "pygments_lexer": "ipython2",
   "version": "2.7.12"
  }
 },
 "nbformat": 4,
 "nbformat_minor": 0
}
