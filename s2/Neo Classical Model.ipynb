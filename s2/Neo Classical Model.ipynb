{
 "cells": [
  {
   "cell_type": "code",
   "execution_count": 27,
   "metadata": {
    "collapsed": false
   },
   "outputs": [],
   "source": [
    "from __future__ import division\n",
    "%matplotlib inline\n",
    "import numpy as np\n",
    "import matplotlib.pyplot as plt\n",
    "import seaborn as sns\n",
    "sns.set_style('whitegrid')"
   ]
  },
  {
   "cell_type": "markdown",
   "metadata": {},
   "source": [
    "# Coding a forward shooting algorithm with a discrete Neoclassical growth model\n",
    "\n",
    "## 1. The Problem\n",
    "\n",
    "A discrete version of the two differencial equations:\n",
    "\n",
    "$$ k_{t+1} = k_t^\\alpha - (\\delta + n + g)k_t - c_t + k_t$$\n",
    "$$ c_{t+1} = \\frac{\\alpha k_{t+1}^{(\\alpha-1)} - (\\delta + \\rho + g\\epsilon)}{\\epsilon}c_t + c_t$$"
   ]
  },
  {
   "cell_type": "code",
   "execution_count": 28,
   "metadata": {
    "collapsed": true
   },
   "outputs": [],
   "source": [
    "# Parameters\n",
    "epsilon = 1.0\n",
    "rho = 0.03\n",
    "delta = 0.06\n",
    "n = 0.01\n",
    "g = 0.02\n",
    "alpha = 1.0/3.0"
   ]
  },
  {
   "cell_type": "markdown",
   "metadata": {},
   "source": [
    "> Exercise 1:"
   ]
  },
  {
   "cell_type": "code",
   "execution_count": 29,
   "metadata": {
    "collapsed": false
   },
   "outputs": [],
   "source": [
    "def kstar():\n",
    "    return (alpha/(delta+rho+epsilon*g))**(1.0/(1.0-alpha))\n",
    "\n",
    "def cstar(kss):\n",
    "    return kss**alpha - (delta + n + g)*kss\n",
    "\n",
    "kss = kstar()\n",
    "css = cstar(kss)"
   ]
  },
  {
   "cell_type": "code",
   "execution_count": 30,
   "metadata": {
    "collapsed": true
   },
   "outputs": [],
   "source": [
    "def capital_accumulation_eqn(kt,ct):\n",
    "    ktplus1 = kt**(alpha) - (delta + n + g)*kt - ct + kt\n",
    "    return ktplus1"
   ]
  },
  {
   "cell_type": "code",
   "execution_count": 31,
   "metadata": {
    "collapsed": true
   },
   "outputs": [],
   "source": [
    "def discrete_euler(ktplus1,ct):\n",
    "    ctplus1 = (1.0/epsilon)*(alpha*ktplus1**(alpha-1.0) - (delta + rho + g*epsilon))*ct + ct\n",
    "    return ctplus1"
   ]
  },
  {
   "cell_type": "code",
   "execution_count": 32,
   "metadata": {
    "collapsed": true
   },
   "outputs": [],
   "source": [
    "k0 = kss*0.5"
   ]
  },
  {
   "cell_type": "code",
   "execution_count": 33,
   "metadata": {
    "collapsed": false
   },
   "outputs": [
    {
     "name": "stdout",
     "output_type": "stream",
     "text": [
      "5.27508048351 1.26601931604\n"
     ]
    }
   ],
   "source": [
    "k_star, c_star = kstar(), cstar(kss)\n",
    "print k_star, c_star"
   ]
  },
  {
   "cell_type": "code",
   "execution_count": 34,
   "metadata": {
    "collapsed": true
   },
   "outputs": [],
   "source": [
    "def compute_sample_path(k0,c0, T):\n",
    "    k = np.empty((T+1,1))\n",
    "    c = np.empty((T+1,1))\n",
    "    k[0] = k0\n",
    "    c[0] = c0\n",
    "    for t in range(0,T):\n",
    "        k[t+1] = capital_accumulation_eqn(k[t],c[t])\n",
    "        c[t+1] = discrete_euler(k[t+1],c[t])\n",
    "    sample_path = np.hstack([k,c])\n",
    "    return sample_path"
   ]
  },
  {
   "cell_type": "code",
   "execution_count": 37,
   "metadata": {
    "collapsed": false
   },
   "outputs": [],
   "source": [
    "def forward_shoot(k0, tol=1e-07, verbose=False):\n",
    "    # compute steady state values\n",
    "    k_star, c_star = kstar(), cstar(kss)\n",
    "    if k0 <= k_star:\n",
    "        c_l = 0\n",
    "        c_h = c_star\n",
    "    else:\n",
    "        c_l = c_star\n",
    "        c_h = k0**alpha\n",
    "    c0 = (c_h + c_l) / 2\n",
    "    k, c = k0, c0\n",
    "    \n",
    "    # Initialize a counter\n",
    "    count  = 0\n",
    "    n_iter = 0\n",
    "        \n",
    "    # Forward Shooting Algorithm\n",
    "    while 1:\n",
    "    #for i in range(1):\n",
    "        n_iter +=1\n",
    "        k = capital_accumulation_eqn(k,c)\n",
    "        c = discrete_euler(k,c)\n",
    "        dist = np.abs(((k - k_star)**2 + (c - c_star)**2)**0.5)\n",
    "        if verbose and n_iter%100==0:\n",
    "            print dist\n",
    "        count = count + 1\n",
    "        if k0 <= k_star:\n",
    "            if k > k_star:\n",
    "                if dist < tol:\n",
    "                    break\n",
    "                else: # initial c_l too low!\n",
    "                    c_l = c0\n",
    "                    c0 = (c_h + c_l) / 2\n",
    "                    k, c = k0, c0\n",
    "                    count = 0\n",
    "            if c > c_star:\n",
    "                if dist < tol:\n",
    "                    break\n",
    "                else: # initial c_h too high!\n",
    "                    c_h = c0 \n",
    "                    c0 = (c_h + c_l) / 2\n",
    "                    k, c = k0, c0\n",
    "                    count = 0\n",
    "        else:\n",
    "            if k < k_star:\n",
    "                if dist < tol:\n",
    "                    break\n",
    "                else: # initial c_l too high!\n",
    "                    c_h = c0 \n",
    "                    c0 = (c_h + c_l) / 2\n",
    "                    k, c = k0, c0\n",
    "                    count = 0\n",
    "            if c < c_star:\n",
    "                if dist < tol:\n",
    "                    break\n",
    "                else: # initial c_l too low!\n",
    "                    c_l = c0\n",
    "                    c0 = (c_h + c_l) / 2\n",
    "                    k, c = k0, c0\n",
    "                    count = 0\n",
    "                \n",
    "    sample_path = compute_sample_path(k0,c0,count)\n",
    "    return sample_path"
   ]
  },
  {
   "cell_type": "code",
   "execution_count": 40,
   "metadata": {
    "collapsed": false
   },
   "outputs": [],
   "source": [
    "sample_path = forward_shoot(k0, tol=1e-07, verbose= False)"
   ]
  },
  {
   "cell_type": "code",
   "execution_count": 41,
   "metadata": {
    "collapsed": false
   },
   "outputs": [
    {
     "data": {
      "image/png": "[encoded data removed]",
      "text/plain": [
       "<matplotlib.figure.Figure at 0xa7a92b0>"
      ]
     },
     "metadata": {},
     "output_type": "display_data"
    }
   ],
   "source": [
    "# Create a grid of points for plotting\n",
    "gridmax, gridsize = 200, 1000\n",
    "grid = np.linspace(0, gridmax, gridsize)\n",
    "\n",
    "# Create a new figure\n",
    "plt.figure(figsize=(8,8))\n",
    "\n",
    "# Add the c and k locii\n",
    "plt.plot(grid, cstar(grid), '-', color='orange', label=r'$\\Delta k=0$')\n",
    "plt.axvline(kss, color='black', label=r'$\\Delta c=0$')\n",
    "plt.plot(kss, css, marker='.', markersize=10, color='k')\n",
    "\n",
    "# Add arrows to indicate out of steady-state dynamics\n",
    "x_len = 1 \n",
    "y_len = 0.1   \n",
    "\n",
    "plt.arrow(x=0.5 * kss, y=0.5 * css, dx=0, dy=y_len)\n",
    "plt.arrow(x=0.5 * kss, y=0.5 * css, dx=x_len, dy=0)\n",
    "\n",
    "plt.arrow(x=0.5 * kss + x_len, y=1.5 * css, dx=0, dy=y_len)\n",
    "plt.arrow(x=0.5 * kss + x_len, y=1.5 * css, dx=-x_len, dy=0)\n",
    "\n",
    "plt.arrow(x=1.5 * kss, y=0.5 * css + y_len, dx=0, dy=-y_len)\n",
    "plt.arrow(x=1.5 * kss, y=0.5 * css + y_len, dx=x_len, dy=0)\n",
    "\n",
    "plt.arrow(x=1.5 * kss + x_len, y=1.5 * css + y_len, dx=0, dy=-y_len)\n",
    "plt.arrow(x=1.5 * kss + x_len, y=1.5 * css + y_len, dx=-x_len, dy=0)\n",
    "\n",
    "# Add the sample path\n",
    "plt.plot(sample_path[:,0],sample_path[:,1], 'b--', label='sample path')\n",
    "\n",
    "# Add the initial level of capital per worker\n",
    "#plt.axvline(k0, color='k', ls='--', label=r'$k_{0}$')\n",
    "\n",
    "# Don't forget to label your axes!\n",
    "plt.xlabel('k')\n",
    "plt.ylim(0, 3)\n",
    "plt.xlim(0,40)\n",
    "plt.ylabel('c', rotation='horizontal')\n",
    "\n",
    "# Add a title to the plot\n",
    "plt.title('Phase Space for the Ramsey Model', fontsize=20, weight='bold')\n",
    "\n",
    "# Add the legend\n",
    "plt.legend(frameon=False)\n",
    "\n",
    "plt.show()"
   ]
  },
  {
   "cell_type": "code",
   "execution_count": null,
   "metadata": {
    "collapsed": true
   },
   "outputs": [],
   "source": []
  }
 ],
 "metadata": {
  "kernelspec": {
   "display_name": "Python 2",
   "language": "python",
   "name": "python2"
  },
  "language_info": {
   "codemirror_mode": {
    "name": "ipython",
    "version": 2
   },
   "file_extension": ".py",
   "mimetype": "text/x-python",
   "name": "python",
   "nbconvert_exporter": "python",
   "pygments_lexer": "ipython2",
   "version": "2.7.12"
  }
 },
 "nbformat": 4,
 "nbformat_minor": 0
}
